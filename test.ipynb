{
 "cells": [
  {
   "cell_type": "code",
   "execution_count": 25,
   "metadata": {},
   "outputs": [],
   "source": [
    "# Imports for scraping\n",
    "from selenium import webdriver\n",
    "from selenium.webdriver.common.by import By\n",
    "from selenium.webdriver.support.ui import WebDriverWait\n",
    "from selenium.webdriver.support import expected_conditions as EC\n",
    "from bs4 import BeautifulSoup\n",
    "import time\n",
    "import datetime\n",
    "\n",
    "# Imports for data formatting\n",
    "import uuid\n",
    "import hashlib\n",
    "import datetime\n",
    "import json"
   ]
  },
  {
   "cell_type": "code",
   "execution_count": 30,
   "metadata": {},
   "outputs": [],
   "source": [
    "TODAY = datetime.date.today().strftime(\"%Y-%m-%d\")\n",
    "\n",
    "def generate_json(author, text, date_created):\n",
    "    output = {}\n",
    "    # get doc id\n",
    "    m = hashlib.md5()\n",
    "    m.update(text.encode('utf-8'))\n",
    "    output['documentID'] = str(uuid.UUID(m.hexdigest())) \n",
    "\n",
    "    # get authorID\n",
    "    m = hashlib.md5()\n",
    "    m.update(author.encode('utf-8'))\n",
    "    output['authorIDs'] = [str(uuid.UUID(m.hexdigest()))]\n",
    "\n",
    "    output['fullText'] = text\n",
    "    output[\"spanAttribution\"] = [{\"authorID\":output['authorIDs'][0],\n",
    "                                    \"start\":0,\n",
    "                                    \"end\":len(text)}]\n",
    "    output[\"isNeedle\"] = False\n",
    "    output[\"collectionNum\"] = \"HRS 1\"\n",
    "    output[\"source\"] = 'https://www.rottentomatoes.com/'\n",
    "    output[\"dateCollected\"] = TODAY\n",
    "    output[\"dateCreated\"] = datetime.datetime.strptime(date_created, \"%b %d, %Y\").strftime(\"%Y-%m-%d\")\n",
    "    output[\"publiclyAvailable\"] = True\n",
    "    output[\"deidentified\"] = False\n",
    "    output[\"languages\"] = [\"en\"]\n",
    "    output[\"lengthWords\"] = len(text.split(' '))\n",
    "    output[\"sourceSpecific\"] = {\"authorName\": author}\n",
    "    print(output)\n",
    "    return output"
   ]
  },
  {
   "cell_type": "code",
   "execution_count": 31,
   "metadata": {},
   "outputs": [
    {
     "name": "stdout",
     "output_type": "stream",
     "text": [
      "{'documentID': 'aa271a03-92d7-1136-180f-091c4a7ee860', 'authorIDs': ['e8b741bd-3d2b-b070-ff82-f70563fa36e3'], 'fullText': \"There are plenty of boys-to-men films about the raunchy adventures of pleasure-seeking teenagers, but Alfonso Cuarón's inspired and exhilarating road movie... taps so directly into their teeming energy that it all but levitates off the screen.\", 'spanAttribution': [{'authorID': 'e8b741bd-3d2b-b070-ff82-f70563fa36e3', 'start': 0, 'end': 243}], 'isNeedle': False, 'collectionNum': '', 'source': 'https://www.rottentomatoes.com/', 'dateCollected': '2023-09-21', 'dateCreated': '2023-09-09', 'publiclyAvailable': True, 'deidentified': False, 'languages': ['en'], 'lengthWords': 36, 'sourceSpecific': {'authorName': 'scott-tobias'}}\n",
      "reviews found for critic scott-tobias: 0\n"
     ]
    }
   ],
   "source": [
    "critic = 'scott-tobias'\n",
    "driver = webdriver.Chrome()\n",
    "page_url = f'https://www.rottentomatoes.com/critics/{critic}/movies/'\n",
    "driver.get(page_url)\n",
    "reviews = []\n",
    "# amount of time to wait for \n",
    "next_wait = WebDriverWait(driver, 4)\n",
    "table_wait = WebDriverWait(driver, 10)\n",
    "for i in range(1):\n",
    "    # extract reviews section from each page\n",
    "    page_source = driver.page_source\n",
    "    soup = BeautifulSoup(page_source, 'html.parser')\n",
    "    table = soup.find('table', {'data-qa': 'critic-reviews-table'})\n",
    "    if table:\n",
    "        # Find all rows in the table's tbody\n",
    "        rows = table.find('tbody').find_all('tr', {'data-qa': 'row'})\n",
    "\n",
    "        # Iterate through the rows to extract the review text\n",
    "        for row in rows:\n",
    "            # Find the review's td element\n",
    "            review_td = row.find('td', {'data-qa': 'critic-review'})\n",
    "            \n",
    "            # Check if the review_td is found\n",
    "            if review_td:\n",
    "                # Extract the review text\n",
    "                review_text = review_td.find('span').text.strip()\n",
    "                date_created = review_td.find('div').find('span').text\n",
    "                generate_json(critic, review_text, date_created)\n",
    "                break\n",
    "                # if date_span:\n",
    "                #     review_date = date_span.find_next('span').text.strip()\n",
    "                # else:\n",
    "                #     review_date = None\n",
    "                # print(review_date)\n",
    "    try:\n",
    "        next_button = next_wait.until(\n",
    "            EC.element_to_be_clickable((By.CSS_SELECTOR, 'rt-button.next'))\n",
    "        )\n",
    "        # Click the \"Next\" button\n",
    "        next_button.click()\n",
    "        # Wait for the table's data to change\n",
    "        table_wait.until(EC.staleness_of(driver.find_element(By.CSS_SELECTOR, 'table[data-qa=\"critic-reviews-table\"]')))\n",
    "        time.sleep(0.2)\n",
    "                    \n",
    "    except Exception as e:\n",
    "        break\n",
    "        \n",
    "    # Close the WebDriver when done\n",
    "    driver.quit()\n",
    "    print(\"reviews found for critic \" + critic + \": \" + str(len(reviews)))\n"
   ]
  },
  {
   "cell_type": "code",
   "execution_count": null,
   "metadata": {},
   "outputs": [],
   "source": []
  }
 ],
 "metadata": {
  "kernelspec": {
   "display_name": "Python 3",
   "language": "python",
   "name": "python3"
  },
  "language_info": {
   "codemirror_mode": {
    "name": "ipython",
    "version": 3
   },
   "file_extension": ".py",
   "mimetype": "text/x-python",
   "name": "python",
   "nbconvert_exporter": "python",
   "pygments_lexer": "ipython3",
   "version": "3.11.4"
  },
  "orig_nbformat": 4
 },
 "nbformat": 4,
 "nbformat_minor": 2
}
