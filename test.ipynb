{
 "cells": [
  {
   "cell_type": "code",
   "execution_count": 62,
   "metadata": {},
   "outputs": [],
   "source": [
    "# Imports for scraping\n",
    "from bs4 import BeautifulSoup\n",
    "import requests\n",
    "import re\n",
    "from collections import defaultdict\n",
    "\n"
   ]
  },
  {
   "cell_type": "code",
   "execution_count": 94,
   "metadata": {},
   "outputs": [
    {
     "name": "stdout",
     "output_type": "stream",
     "text": [
      "Note: The writer of this review watched The Father on a digital screener from home. Before making the decision to see it—or any other film—in a movie theater, please consider the health risks involved. Here’s an interview on the matter with scientific experts. Anthony Hopkins has reached the point in his career where his very presence sparks an image in the mind: the instant impression of sophistication. This veteran of stage and screen classes up projects highbrow and low- with his playful urbanity; when he appears in, say, Thor or a Transformers movie, it’s at least in part for the instant Shakespearean associations created by his plummy accent or a poise that might well be muscle memory after so many plum parts from the Bard’s canon. But The Father, Hopkins’ new movie, does something rather disquieting with his star power and our assumed familiarity with it. To play a man who’s begun to lose his mental faculties, Hopkins methodically strips away every quality we’ve come to expect from him—the refinement, the silver tongue, the imposing intensity he lent Lecter and Nixon and Titus—until there’s nothing left but frailty and distress. In doing so, he helps convey the full tragedy and horror of dementia: the way it can make someone almost unrecognizable to themselves and their loved ones. That the character is actually named Anthony only enhances the sense that we’re watching someone we know go through this nightmare ordeal. He’s introduced planted in a chair in his tastefully decorated London flat, reading a book while listening to classical music. For a moment, he could be any of the cultured, erudite men Hopkins has played over the years. But Anthony is soon interrupted by his grown daughter, Anne (Olivia Colman), who’s been checking on him regularly of late. And though he dismisses her concerns as quickly as he chased off the part-time caregiver she hired for him, it’s quickly clear that Anthony’s memory is getting foggier: He’s losing things around the flat (like his cherished wristwatch, which he insists the nurse stole even though he can’t remember where he hid it) and forgetting names and conversations. That’s really only the start of it. Soon, details about Anthony’s life begin to blur, too. Does he live alone or with his daughter? Is she moving to Paris, as she tells him in the first scene, or did he misunderstand? The first true flash of cognitive dissonance implying cognitive decline arrives when a strange man (Mark Gatiss) appears in the flat, insisting he’s Anne’s husband, even though Anthony remembers her having divorced years earlier. And then Anne herself shows up, except she’s not Anne anymore: She’s suddenly played by a different Olivia—that is, Olivia Williams. It’s an ingenious way to communicate the character’s increasing inability to tell his loved ones from strangers, and really only the beginning of the tricks The Father plays with casting, contradictory dialogue, and even the basic layout and design of the flat. Many of these tricks come from director Florian Zeller’s original stage version of The Father, which had successful runs in Paris and London, before hitting Broadway four years ago, with Frank Langella in the title role. Zeller, a French playwright making his debut behind the camera, doesn’t try to “open up” the material or disguise its interiority, in multiple senses of the word; we’re meant to feel as trapped in this small, shifting space as Anthony does. (Even when he leaves the flat, he may not actually be leaving—or he may not be there at all.) Which is not to suggest that The Father is un-cinematic. Its editing is crucial to the increasingly scrambled timeline of events, as Zeller stretches one afternoon into an endless, bewildering cycle of dinners and repeated conversations. The impression is of the present crashing into the past, to the point where it’s nearly impossible to tell them apart. To that end, the missing watch is important. It becomes a symbol of Anthony’s complete chronological unmooring. Caring for a parent going through the stages of Alzheimer’s or a related disease is a sadly common life experience, which might explain why there are so many movies about it. (There have already been a couple others this year, in fact.) The Father distinguishes itself through the novelty of its frighteningly immersive approach­: the sense that we’re mostly experiencing the plot through the haze of Anthony’s corrupted memories—a choice that arguably makes the film more harrowing, in its disorienting subjectivity, than this past summer’s actual horror movie about dementia, Relic. Zeller largely eschews sentimentality, too, even as he breaks periodically from Anthony’s perspective to explore Anne’s heartbreak over her father’s condition. Like Michael Haneke’s magnificent Amour, another unblinkingly honest film about the indignities of old age, The Father undercuts its capacity for tearjerker schmaltz with moments of impatience on the parts of relatives—in this case, Anne’s frustrated and sometimes cruelly dismissive husband (Rufus Sewell, in some scenes). On the margins of the movie, Zeller implies a second, related story of a marriage hitting the rocks. Through it all, Hopkins gives the sense of a man trying to fight his way through the fog and hold onto who he is. He lashes out, he jokes the fear way, he does a tellingly poor impersonation of someone who recognizes the people in front of him. We get a little of the star’s classic wit and twinkle in scenes of Anthony pulling out the charm for his new nurse (Imogen Poots), and stray flashes of coolly controlled anger, a withering Lecterian side he unleashes as a defense mechanism when warding off the knowledge that everything’s coming apart. “I’m very intelligent,” he impotently bellows at one point, and Hopkins lets us see the proof of this desperate insistence in Anthony’s eyes. But it’s a losing battle, every echo of a past role conveying an aspect of a personality disappearing into mental ether. The final scenes of the movie are among the most heartbreakingly vulnerable of Hopkins’ whole career. You can scarcely believe it’s him. Which is probably the point.\n",
      "\n",
      "\n",
      "I first read Katherine Paterson’s Newbery Award-winning novel Bridge to Terabithia in fifth or sixth grade, I guess, not long after its 1978 publication. I sort of related to the protagonist, Jess Aarons. Partly because of his thing for drawing, which I shared. Partly because he was a loner at school, like I was. And partly because illustrator Donna Diamond gave him a bowl of straight white-blond hair, like I had. A few years later, I had a crush on a pretty teacher who praised my drawings, kind of like Jess’ beloved music teacher, Miss Edmunds. Rereading the book now to my own children, I realize I also related to Jess’s friend Leslie, the new girl at school, the storyteller and inventor of imaginary worlds. I didn’t have a friendship like theirs, but I told stories to my younger brother and created various secret worlds and magical alter egos for my siblings and myself. Certainly I never went through anything quite as overwhelming as what happens in the last third of the story; but the event and its aftermath has always stayed with me. (If you don’t know what I’m talking about, read the book before you or your kids see the film.) Paterson’s poignant, unsentimental story speaks about real life in the real world, the world I grew up in and still live in today. The new Walden Media film version, directed by Gabor Csupo from a screenplay cowritten by the novelist’s son, adequately captures key episodes from the book, but resituates them in a fantasy world in which a rope swing over a stream really might be the doorway into a magical realm inhabited by fantastic creatures. As with Walden’s recent Charlotte’s Web, the key points of the book are here, for the most part, but hampered by irrelevant “family film” clutter — in this case unmagical fantasy sequences jarringly at odds with the story’s most significant plot point. In Paterson’s book, as in real life, magical lands like Terabithia exist only in imagination and in books. Not books like Bridge to Terabithia — other books, like Lewis’s Narnia stories and Lloyd Alexander’s Prydain tales, both of which are explicitly invoked in the narrative. (Although Paterson says it was unconscious, the name Terabithia was evidently inspired by the nearly identical Narnian-world place-name Terebinthia, which in turn was probably borrowed from the biblical terebinth tree. Similarly, Terabithia’s Prince Terrien may have been suggested by Narnia’s King Tirian from The Last Battle.) The film, though, takes us to a world in which imagination comes to life, with lavish CGI special effects giving the magic of Terabithia a palpable presence it never had in the book, even in Jess and Leslie’s imaginations. As played in the film, this is more than a mere stylistic conceit, a magical-realist gloss on childhood imagination. When Jess (Josh Hutcherson, Zathura) and Leslie (AnnaSophia Robb, Charlie and the Chocolate Factory, Because of Winn-Dixie) are under attack by magical creatures in Terabithia, they don’t act like children playing at being attacked by pretend creatures that we “see” through the eyes of imagination. They behave, well, like actors in a fantasy film action sequence really being attacked by real creatures. It’s like they step out of being the real Jess and Leslie, and become characters in one of Leslie’s stories. These intrusions of action fantasy clash glaringly with the unyielding hardness of reality that is at the very heart of Paterson’s story. Nowhere is this more evident than in a scene in which Jess falls out of a tree. The fall should be fatal — but this is the film’s fairy-tale Terabithia, and a benevolent magic is at hand to save him. Fans of the book will know that later in the story is a critical event in which no such deus ex machina intervenes. (Yes, it did occur to me, watching the film, that this later event occurs, as it were, on the frontier between Terabithia and the real world, so perhaps one could posit a defense for a different set of rules applying. But this whole line of thought about “rules” is already out of step with the essential issue. The two events just don’t belong in the same story.) In spite of this miscalculation, the strengths of the original story carry over into the film to a sufficient degree to make it a worthwhile experience. Cautious, quiet, poor, Jess doesn’t fit in anywhere — not at home, with four girly sisters and hard, remote father (Robert Patrick) whose way he tries to stay out of; and not at school, where he has rivals and enemies, but no real friends. His obsession with running — he’s been training all summer, and is determined to be the fastest kid in the fifth grade — is partly driven by youthful competitiveness and desire to prove himself, but it also seems to reflect a desire for escape, for freedom, as if he were trying to outrun the harsh realities of his hardscrabble life. He can’t — but then he meets someone even faster. Leslie, with her odd clothes, imagination, and genuine manner, is even less able to fit in than Jess; but if she lacks his survival skills, she possesses inner resources he doesn’t. Her imagination, fearlessness and gift for words open new worlds for Jess. In a nice touch, their Terabithian castle becomes a tree fort, which they stock with pine-cone grenades. Only when under attack by mutant squirrels, raptors and trolls — most of whom are explicitly tied to real-world adversaries — does the story feel forced. (Why are these creatures are viscerally depicted while the treehouse, for instance, never becomes a real castle? Such questions aren’t explored.) Then there’s an odd scene in which the treehouse is almost crushed by a falling tree. An alarming real-world threat like that ought to snap the kids out of their games, but Leslie incorporates it without missing a beat, blaming the falling tree on trolls. “No,” Jess protests, “a falling tree almost killed us!” Leslie’s reaction is odd enough to make one wonder for a moment if there’s something wrong with her, which surely wasn’t the intent. The real-world conflicts are better handled. There are occasional effective touches like Jess using a Sharpie to try to blacken the pink trim on hand-me-down sneakers from his older sisters, and bullying Janice Avery (Lauren Clinton), alternately intimidating, humiliated and finally humanized, gets a quasi-redeeming moment toward the end worth a smile. (Yet Janice’s humanization is undercut by its anticipation in the Terabinthian fantasy world.) A visit to church (an ordinary Sunday service rather than Easter as in the book) raises questions of faith and spirituality, with the agnostically raised Leslie strangely attracted to the Jesus story in a way that Jess the believer doesn’t quite understand. On the other hand, the film omits the incipient spirituality of Leslie’s Terebithian prayers to the “Spirits” of the pine grove in the book. The book’s 1970s setting, with its references to Vietnam and peaceniks, has been gracefully updated, with only occasional references to the Internet and handheld electronic devices and the like. Jess does still tell Leslie that she can’t wear pants to church, but I guess such churches can still be found. One unfortunate shortcoming is Jess’s crush on Miss Edmunds (ideal Zooey Deschanel), which isn’t adequately established in the film, sapping Jess’s “perfect day” with her — and the implicit conflict that follows — of much of its significance. And when a crucial climactic event occurs, there are some odd creative choices, such as the omission of Jess’s initial reaction from the book, which ties in with his established passion for running and would have been much more cinematic than what he does in the film. The last scene, too, is somewhat off, going for a triumphant magical finish when it should settle for bittersweet effectiveness. Even so, the power of the book’s story comes to life in fits and starts. It’s worth catching with your older kids, maybe, if you and they appreciated the book. Those who haven’t read the book should probably postpone seeing the film until they have.\n",
      "\n",
      "\n",
      "We’re sorry, this feature is currently unavailable. We’re working to restore it. Please try again later. Add articles to your saved list and come back to them any time. I've felt fondly towards Tom Hanks' Professor Robert Langdon ever since he paused, wild-eyed, while fleeing for his life in The Da Vinci Code, to say to his equally distraught companion: \"I've got to get to a library. Fast!\" But things have changed. In his latest movie, Hollywood's most literary action man discovers Google Books. He's back –after a bit of a hiatus. Director Ron Howard decided not to film The Lost Symbol, the third novel in Dan Brown's Langdon series, skipping straight to Inferno, in which Brown leaves Da Vinci, freemasonry and the Catholic Church behind to have his way with Dante. Clues mined from Dante's Divine Comedy have been welded into a hackneyed but serviceable plot about a madman out to eliminate over-population with a deadly virus. When the film opens, Langdon is in a Florence hospital with a head wound and no memory of how he got it. He's baffled but he's going to have to work things out on the run because a hired assassin has just set the plot in motion by bursting into his hospital ward. Fast-moving plot: Langdon (Tom Hanks) and Sienna (Felicity Jones) run for their lives through Boboli Gardens, Florence.Credit: Sony Pictures Langdon's doctor, played by Felicity Jones, saves him, hustling him out of the building and into a taxi, and since she happens to be almost as knowledgeable about Italian medieval history as he is, they start working together to unravel the mystery of who's hunting him and why. This means dispensing large slabs of exposition by lecturing one another on what they both know already. No Langdon adventure would be complete without a cultural tour. We've already done the Louvre and the Vatican in his company. This time, it's the Uffizi Gallery, and it sustains quite a bit of damage before two crucial clues are decoded. Langdon's pursuers are also multiplying and none of them can be trusted, included a team from the World Health Organisation, which is run by Sidse Babette Knudsen, the Danish prime minister from the TV series Borgen. It's a classy cast and the excellent Indian actor Irrfan Khan goes so far as to infuse a little wit into the po-faced dialogue that's endemic to Dan Brown adaptations. Not that there's much time for talk. The action is now racing from Florence to Venice towards its climax in Istanbul. In short, the film has become a travelogue set on fast forward and complicated by swiftly shifting alliances as the plot busily sorts out the good from the bad and the bad from the merely confused. None of it makes much sense but sense is hardly the point. With Brown, finding the solution always matters more than the solution itself. And this time there is some fun to be had along the way.\n",
      "\n",
      "\n"
     ]
    }
   ],
   "source": [
    "def scrape_page(url):\n",
    "    \"\"\"\n",
    "    Scrapes and process text from a webpage, focusing on <p> tags.\n",
    "\n",
    "    Parameters:\n",
    "    url (str): The URL of the webpage to scrape.\n",
    "\n",
    "    Returns:\n",
    "    str: The cleaned-up text extracted from the web page, or an empty string if an issue occurs during scraping.\n",
    "    \"\"\"\n",
    "\n",
    "    # returns class attributes of an HTML element or \"NOCLASS\" if it doesn't have any.\n",
    "    def get_class(p):\n",
    "        return ''.join(p['class']) if p.has_attr('class') else \"&&NOCLASS&&\"\n",
    "\n",
    "    p_dict = defaultdict(list)\n",
    "\n",
    "    try:\n",
    "        response = requests.get(url)\n",
    "\n",
    "        # if we've been redirected, return.\n",
    "        if response.url != url:\n",
    "            return \"\"\n",
    "\n",
    "        soup = BeautifulSoup(response.text, 'html.parser')\n",
    "        # finds all <p> tags\n",
    "        paragraphs = soup.find_all('p')\n",
    "\n",
    "        for p in paragraphs:\n",
    "            # Add text to dict if there are more than 5 words in it.\n",
    "            if len(p.text.split(' ')) > 5:\n",
    "                p_dict[get_class(p)].append(p.text)\n",
    "\n",
    "    except Exception as e:\n",
    "        return \"\"\n",
    "\n",
    "    # Find the class with the longest list of paragraphs\n",
    "    longest_key = max(p_dict, key=lambda k: len(p_dict[k]))\n",
    "\n",
    "    # Combine and clean up text\n",
    "    full_text = re.sub(r'\\s+', ' ', ' '.join(p_dict[longest_key])).strip()\n",
    "\n",
    "    return full_text\n"
   ]
  },
  {
   "cell_type": "code",
   "execution_count": null,
   "metadata": {},
   "outputs": [],
   "source": []
  },
  {
   "cell_type": "code",
   "execution_count": null,
   "metadata": {},
   "outputs": [],
   "source": []
  }
 ],
 "metadata": {
  "kernelspec": {
   "display_name": "Python 3",
   "language": "python",
   "name": "python3"
  },
  "language_info": {
   "codemirror_mode": {
    "name": "ipython",
    "version": 3
   },
   "file_extension": ".py",
   "mimetype": "text/x-python",
   "name": "python",
   "nbconvert_exporter": "python",
   "pygments_lexer": "ipython3",
   "version": "3.11.4"
  },
  "orig_nbformat": 4
 },
 "nbformat": 4,
 "nbformat_minor": 2
}
