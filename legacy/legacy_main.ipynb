{
 "cells": [
  {
   "cell_type": "code",
   "execution_count": 1,
   "metadata": {},
   "outputs": [],
   "source": [
    "# pip install beautifulsoup4 requests selenium"
   ]
  },
  {
   "cell_type": "code",
   "execution_count": 2,
   "metadata": {},
   "outputs": [],
   "source": [
    "# Imports for scraping\n",
    "from selenium import webdriver\n",
    "from selenium.webdriver.common.by import By\n",
    "from selenium.webdriver.support.ui import WebDriverWait\n",
    "from selenium.webdriver.support import expected_conditions as EC\n",
    "from bs4 import BeautifulSoup\n",
    "import time\n",
    "\n",
    "\n",
    "# Imports for data formatting\n",
    "import uuid\n",
    "import hashlib\n",
    "import datetime\n",
    "import json\n"
   ]
  },
  {
   "cell_type": "code",
   "execution_count": 3,
   "metadata": {},
   "outputs": [],
   "source": [
    "TODAY = datetime.date.today().strftime(\"%Y-%m-%d\")\n",
    "\n",
    "def generate_json(author, text, date_created):\n",
    "    output = {}\n",
    "    # get doc id\n",
    "    m = hashlib.md5()\n",
    "    m.update(text.encode('utf-8'))\n",
    "    output['documentID'] = str(uuid.UUID(m.hexdigest())) \n",
    "\n",
    "    # get authorID\n",
    "    m = hashlib.md5()\n",
    "    m.update(author.encode('utf-8'))\n",
    "    output['authorIDs'] = [str(uuid.UUID(m.hexdigest()))]\n",
    "\n",
    "    output['fullText'] = text\n",
    "    output[\"spanAttribution\"] = [{\"authorID\":output['authorIDs'][0],\n",
    "                                    \"start\":0,\n",
    "                                    \"end\":len(text)}]\n",
    "    output[\"isNeedle\"] = False\n",
    "    output[\"collectionNum\"] = \"HRS 1\"\n",
    "    output[\"source\"] = 'https://www.rottentomatoes.com/'\n",
    "    output[\"dateCollected\"] = TODAY\n",
    "    output[\"dateCreated\"] = datetime.datetime.strptime(date_created, \"%b %d, %Y\").strftime(\"%Y-%m-%d\")\n",
    "    output[\"publiclyAvailable\"] = True\n",
    "    output[\"deidentified\"] = True\n",
    "    output[\"languages\"] = [\"en\"]\n",
    "    output[\"lengthWords\"] = len(text.split(' '))\n",
    "    output[\"sourceSpecific\"] = {\"authorName\": author}\n",
    "    return output"
   ]
  },
  {
   "cell_type": "code",
   "execution_count": 4,
   "metadata": {},
   "outputs": [],
   "source": [
    "def scrape_reviews(critic): \n",
    "    driver = webdriver.Chrome()\n",
    "    page_url = f'https://www.rottentomatoes.com/critics/{critic}/movies/'\n",
    "    driver.get(page_url)\n",
    "    reviews = []\n",
    "    # amount of time to wait for \n",
    "    next_wait = WebDriverWait(driver, 4)\n",
    "    table_wait = WebDriverWait(driver, 10)\n",
    "    while True:\n",
    "        # extract reviews section from each page\n",
    "        page_source = driver.page_source\n",
    "        soup = BeautifulSoup(page_source, 'html.parser')\n",
    "        table = soup.find('table', {'data-qa': 'critic-reviews-table'})\n",
    "        if table:\n",
    "            # Find all rows in the table's tbody\n",
    "            rows = table.find('tbody').find_all('tr', {'data-qa': 'row'})\n",
    "\n",
    "            # Iterate through the rows to extract the review text\n",
    "            for row in rows:\n",
    "                # Find the review's td element\n",
    "                review_td = row.find('td', {'data-qa': 'critic-review'})\n",
    "                # Check if the review_td is found\n",
    "                if review_td:\n",
    "                    # Extract the review text\n",
    "                    review_text = review_td.find('span').text.strip()\n",
    "                    date_created = review_td.find('div').find('span').text\n",
    "                    if(len(review_text) > 5):\n",
    "                        reviews.append(generate_json(critic, review_text, date_created))\n",
    "        try:\n",
    "            next_button = next_wait.until(\n",
    "                EC.element_to_be_clickable((By.CSS_SELECTOR, 'rt-button.next'))\n",
    "            )\n",
    "            # Click the \"Next\" button\n",
    "            next_button.click()\n",
    "            # Wait for the table's data to change\n",
    "            table_wait.until(EC.staleness_of(driver.find_element(By.CSS_SELECTOR, 'table[data-qa=\"critic-reviews-table\"]')))\n",
    "            time.sleep(0.2)\n",
    "                        \n",
    "        except Exception as e:\n",
    "            break\n",
    "            \n",
    "    # Close the WebDriver when done\n",
    "    driver.quit()\n",
    "    print(\"reviews found for critic \" + critic + \": \" + str(len(reviews)))\n",
    "    return reviews\n",
    "\n",
    "\n",
    "def get_reviews(critics):\n",
    "    review_list = []\n",
    "    for critic in critics:\n",
    "        review_list.append(scrape_reviews(critic))\n",
    "    return review_list\n",
    "\n"
   ]
  },
  {
   "cell_type": "code",
   "execution_count": 5,
   "metadata": {},
   "outputs": [
    {
     "name": "stdout",
     "output_type": "stream",
     "text": [
      "reviews found for critic ella-taylor: 1202\n"
     ]
    }
   ],
   "source": [
    "critics = [\"ella-taylor\"]\n",
    "scraped = get_reviews(critics)\n",
    "with open(\"rtcorpus.jsonl\", 'a') as corpus, open(\"critics.txt\", 'a') as critic_list:\n",
    "    for rl in scraped: \n",
    "        critic = rl[0][\"sourceSpecific\"][\"authorName\"]\n",
    "        critic_list.write(critic + ': ' + str(len(rl)) + '\\n')\n",
    "        for review in rl:\n",
    "            corpus.write(json.dumps(review) + '\\n')\n",
    "        "
   ]
  },
  {
   "cell_type": "code",
   "execution_count": null,
   "metadata": {},
   "outputs": [],
   "source": []
  }
 ],
 "metadata": {
  "kernelspec": {
   "display_name": "Python 3",
   "language": "python",
   "name": "python3"
  },
  "language_info": {
   "codemirror_mode": {
    "name": "ipython",
    "version": 3
   },
   "file_extension": ".py",
   "mimetype": "text/x-python",
   "name": "python",
   "nbconvert_exporter": "python",
   "pygments_lexer": "ipython3",
   "version": "3.11.4"
  },
  "orig_nbformat": 4
 },
 "nbformat": 4,
 "nbformat_minor": 2
}
