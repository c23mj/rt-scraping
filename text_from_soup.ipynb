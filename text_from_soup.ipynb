{
 "cells": [
  {
   "cell_type": "code",
   "execution_count": 2,
   "metadata": {},
   "outputs": [],
   "source": [
    "# Imports for scraping individual websites\n",
    "import json\n",
    "import re\n",
    "from bs4 import BeautifulSoup\n",
    "from collections import defaultdict"
   ]
  },
  {
   "cell_type": "code",
   "execution_count": 3,
   "metadata": {},
   "outputs": [],
   "source": [
    "def scrape_soup(soup):\n",
    "    \"\"\"\n",
    "    Scrapes and process text from a webpage, focusing on <p> tags.\n",
    "\n",
    "    Parameters:\n",
    "    url (str): The URL of the webpage to scrape.\n",
    "\n",
    "    Returns:\n",
    "    str: The cleaned-up text extracted from the web page, or an empty string if an issue occurs during scraping.\n",
    "    \"\"\"\n",
    "    \n",
    "    # returns class attributes of an HTML element or \"NOCLASS\" if it doesn't have any.\n",
    "    def get_class(p):\n",
    "        return ''.join(p['class']) if p.has_attr('class') else \"&&NOCLASS&&\"\n",
    "\n",
    "    p_dict = defaultdict(list)\n",
    "    try:\n",
    "        for element in soup.find_all():\n",
    "            if element.has_attr('class') and any(\"caption\" in class_name.lower() or \"newsletter\" in class_name.lower() \n",
    "                                                 for class_name in element['class']):\n",
    "                element.extract()\n",
    "        # finds all <p> tags\n",
    "        paragraphs = soup.find_all('p')\n",
    "\n",
    "        for p in paragraphs:\n",
    "            if len(p.text.split(' ')) > 5:\n",
    "                p_dict[get_class(p)].append(p.text)\n",
    "\n",
    "        # Find the class with the longest list of paragraphs\n",
    "        longest_key = max(p_dict, key=lambda k: len(p_dict[k]))\n",
    "\n",
    "        # Combine and clean text\n",
    "        full_text = re.sub(r'\\s+', ' ', ' '.join(p_dict[longest_key])).strip()\n",
    "\n",
    "    except Exception as e:\n",
    "        # print(\"Exception \"  + str(e) + \" occurred for url: \" + url)\n",
    "        return \"\"\n",
    "\n",
    "\n",
    "    return full_text"
   ]
  },
  {
   "cell_type": "code",
   "execution_count": 4,
   "metadata": {},
   "outputs": [
    {
     "name": "stdout",
     "output_type": "stream",
     "text": [
      "The first time I saw Prisoners was at a friend’s apartment in college. Looking back, I can’t imagine a worse setting to experience an atmospheric crime thriller: several dudes packed like sardines on a small, stained couch, sipping whiskey out of red Solo cups. (As all good whiskey should be served.) Nevertheless, over the next two and a half hours, we all sat there in stunned silence—completely at the mercy of the French Canadian director responsible for this bleak, gorgeous film. Admittedly, none of us had any idea who the guy was, but everyone on that crappy sofa was in agreement: We will watch your career with great interest. While Denis Villeneuve was by no means an unknown commodity among cinephiles—his 2010 drama, Incendies, was nominated for Best Foreign Language Film at the Oscars—Prisoners marked the filmmaker’s thrilling introduction to the mainstream. Now, a decade after Prisoners’ debut, Villeneuve’s résumé speaks for itself: Enemy (featuring an all-time WTF ending), Sicario, Arrival, Blade Runner 2049, Dune, and, provided there isn’t another delay from Warner Bros. on account of the ongoing Hollywood labor strikes, Dune: Part Two in March 2024. (Villeneuve’s future may also hold a James Bond movie.) When stacked up against so many stellar blockbusters, Prisoners feels almost second rate, like an athlete that put together a promising season just before catapulting to stardom. But Prisoners can act as a skeleton key that unlocks some of Villeneuve’s defining preoccupations as a filmmaker: how far characters are willing to go, and what they’re prepared to sacrifice, for the answers they seek. There’s a lot of TV out there. We want to help: Every week, we’ll tell you the best and most urgent shows to stream so you can stay on top of the ever-expanding heap of Peak TV. Set in the fictional working-class town of Conyers, Pennsylvania, Prisoners begins on Thanksgiving with the Dover and Birch families celebrating the holiday together. Later that afternoon, the youngest daughters of both families go missing—the only lead is a mysterious RV that was parked in the neighborhood. When authorities track the vehicle down, the driver, Alex Jones (Paul Dano), is arrested. (Alex is sporting Jeffrey Dahmer–esque glasses and is objectively creepy in a way that only Dano could bring to life, which arouses further suspicion.) After he’s interrogated, however, it’s clear that Alex has mental disabilities, and when there isn’t a shred of evidence connecting the missing girls to the RV, he’s released from custody. Naturally, this isn’t a satisfactory outcome for the Dover patriarch, Keller (Hugh Jackman), who is convinced of Alex’s guilt after the suspect whispers something to him in the precinct parking lot that implies he was with the girls. (“They only cried when I left them.”) From there, Prisoners gets really twisted: Keller abducts Alex outside Alex’s aunt’s house and brutally tortures him in an abandoned apartment complex for information about the girls’ whereabouts. While the other father, Franklin Birch (Terrence Howard), does not actively participate in the torture, he goes along with Keller’s scheme, knowing that with every day that passes, it’s more and more unlikely their children will ever be found. Meanwhile, Detective Loki (Jake Gyllenhaal), famed for solving every case he’s been presented with, pursues whatever leads he can find—starting with townsfolk who are on the sex offender registry. Following in the tradition of the finest David Fincher thrillers, answers aren’t easy to come by in Prisoners, and seeing fundamentally decent characters pushed to their breaking point propels the film’s narrative. Keller is a particularly tragic figure: A devoutly religious man who is also a doomsday prepper, he takes comfort in hoping for the best while preparing for the worst. Of course, a child’s abduction is the kind of event that nobody can plan for, and justifying the torture of a man who may well be innocent pushes Keller past the point of no return. “He’s not a person anymore,” Keller tells Franklin as the basis for such heinous acts of cruelty. “No, he stopped being a person when he took our daughters.” Like Fincher, Villeneuve directs Prisoners with a sense of cold detachment: His chief concern isn’t plot as much as establishing a rich, moody atmosphere that reflects the characters’ inner turmoil. (Gyllenhaal’s Loki feels like a spiritual cousin to the actor’s obsessive cartoonist in Zodiac, who was so determined to track down the infamous serial killer that his marriage fell apart.) In that respect, Villeneuve’s greatest asset is the legendary cinematographer Roger Deakins, who would earn Prisoners’ lone Oscar nomination, for Best Cinematography. In their hands, Conyers is the small-town answer to Fincher’s urban hellscape in Se7en: a place where gloomy weather is a constant and an overwhelming feeling of dread permeates every frame. (Villeneuve and Deakins would team up again for Sicario and Blade Runner 2049, the latter of which provided the cinematographer with a long-overdue Oscar.) Unlike Zodiac, however, Prisoners ultimately gives the characters—and the audience—the closure they seek. (Prisoners screenwriter Aaron Guzikowski would let a lot more ambiguity slide in his tragically short-lived HBO Max series, Raised by Wolves, which was essentially Westworld dunked into a vat of LSD.) The climax of Prisoners is perhaps a little too neat for its own good, with everything connecting like scattered pieces of a puzzle, but that doesn’t take away from the gripping, harrowing journey to that destination. From scene to scene, the viewer has to reckon with the thorny choices the characters face and how they’d react in the same morally compromising situations. (Right before Keller kidnaps Alex, he watches Alex lift his aunt’s dog by the leash in a brief moment of cruelty—it’s not a stretch to imagine him doing far worse.) The circumstances of Prisoners are extreme, but they’re true to life: What you think is the best course of action at the time can lead to a lifetime of regret. Villeneuve would explore similar territory in what remains his best film, Sicario, which begins when FBI special agent Kate Macer (Emily Blunt) joins a government task force to bring down the leader of a Mexican drug cartel whose violence keeps spilling into the United States. The further Kate goes down the rabbit hole, the more she has to forgo her principles as both sides of the law perpetuate a cycle of senseless violence. The war on drugs is a conflict that’s radically different from suburban child kidnapping, but in both movies, Villeneuve shows the lengths that characters are willing to go in the pursuit of justice—unaware, until it’s far too late, that those actions have turned into retribution. (If you want to experience the ultimate feel-bad double feature, you can’t do much better—or worse, depending on how you look at it—than Prisoners and Sicario.)\n"
     ]
    }
   ],
   "source": [
    "jsonl_file_path = 'output/reviewsoups.jsonl'\n",
    "\n",
    "# Open the JSONL file for reading\n",
    "with open(jsonl_file_path, 'r') as jsonl_file:\n",
    "    for line in jsonl_file:\n",
    "        json_obj = json.loads(line.strip())\n",
    "        soup = BeautifulSoup(json_obj['fullText'], \"html.parser\")\n",
    "        print(scrape_soup(soup))"
   ]
  },
  {
   "cell_type": "code",
   "execution_count": null,
   "metadata": {},
   "outputs": [],
   "source": []
  }
 ],
 "metadata": {
  "kernelspec": {
   "display_name": "Python 3",
   "language": "python",
   "name": "python3"
  },
  "language_info": {
   "codemirror_mode": {
    "name": "ipython",
    "version": 3
   },
   "file_extension": ".py",
   "mimetype": "text/x-python",
   "name": "python",
   "nbconvert_exporter": "python",
   "pygments_lexer": "ipython3",
   "version": "3.11.4"
  },
  "orig_nbformat": 4
 },
 "nbformat": 4,
 "nbformat_minor": 2
}
