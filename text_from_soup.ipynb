{
 "cells": [
  {
   "cell_type": "code",
   "execution_count": 37,
   "metadata": {},
   "outputs": [],
   "source": [
    "# Imports for scraping individual websites\n",
    "import json\n",
    "import re\n",
    "from bs4 import BeautifulSoup\n",
    "from collections import defaultdict\n"
   ]
  },
  {
   "cell_type": "code",
   "execution_count": 38,
   "metadata": {},
   "outputs": [],
   "source": [
    "def scrape_soup(soup):\n",
    "    # print(soup)\n",
    "    \"\"\"\n",
    "    Scrapes and process text from a webpage, focusing on <p> tags.\n",
    "\n",
    "    Parameters:\n",
    "    url (str): The URL of the webpage to scrape.\n",
    "\n",
    "    Returns:\n",
    "    str: The cleaned-up text extracted from the web page, or an empty string if an issue occurs during scraping.\n",
    "    \"\"\"\n",
    "    \n",
    "    # returns class attributes of an HTML element or \"NOCLASS\" if it doesn't have any.\n",
    "    def get_class(p):\n",
    "        return ''.join(p['class']) if p.has_attr('class') else \"&&NOCLASS&&\"\n",
    "    \n",
    "    p_dict = defaultdict(list)\n",
    "    try:\n",
    "        for element in soup.find_all():\n",
    "            if element.attrs and 'class' in element.attrs:\n",
    "                # if any(\"caption\" in class_name.lower() \n",
    "                #         for class_name in element['class']):\n",
    "                #     element.decompose()\n",
    "                if any(\"ssba-classic-2\" in class_name.lower() for class_name in element['class']):\n",
    "                    for sibling in element.find_all_next():\n",
    "                        sibling.extract()\n",
    "                    element.extract()\n",
    "                    break\n",
    "            # if element.name in ['ol', 'ul', 'dl']:\n",
    "            #     element.decompose()\n",
    "\n",
    "        # finds all <p> tags\n",
    "        paragraphs = soup.find_all('p')\n",
    "        for p in paragraphs:\n",
    "            if len(p.text.split(' ')) > 5 and not p.find(['ol', 'ul', 'dl' ]):\n",
    "                p_dict[get_class(p)].append(p.text)\n",
    "\n",
    "        # Find the class with the longest list of paragraphs\n",
    "        longest_key = max(p_dict, key=lambda k: len(p_dict[k]))\n",
    "\n",
    "        # Combine and clean text\n",
    "        full_text = re.sub(r'\\s+', ' ', ' '.join(p_dict[longest_key])).strip()\n",
    "\n",
    "\n",
    "    except Exception as e:\n",
    "        print(\"Exception \"  + str(e) + \" occured\")\n",
    "        return \"\"\n",
    "\n",
    "\n",
    "    return full_text\n"
   ]
  },
  {
   "cell_type": "code",
   "execution_count": 39,
   "metadata": {},
   "outputs": [],
   "source": [
    "def process_json(json_obj):\n",
    "    fullText = scrape_soup(BeautifulSoup(json_obj['fullText'], \"html.parser\"))\n",
    "    json_obj['fullText'] = fullText\n",
    "    json_obj[\"spanAttribution\"] = [{\"authorID\":json_obj['authorIDs'][0],\n",
    "                                    \"start\":0,\n",
    "                                    \"end\":len(fullText)}]\n",
    "    json_obj[\"lengthWords\"] = len(fullText.split(' '))\n",
    "    return json_obj\n"
   ]
  },
  {
   "cell_type": "code",
   "execution_count": 40,
   "metadata": {},
   "outputs": [],
   "source": [
    "jsonl_file_path = '/shared/3/projects/hiatus/rotten_tomatoes/raw_output/reviewsoups.jsonl'\n",
    "rt_corpus_path = '/shared/3/projects/hiatus/rotten_tomatoes/rtcorpus.jsonl'\n",
    "# rt_corpus_path = './output/reviewsoups.jsonl'\n",
    "\n",
    "\n",
    "      \n",
    "with open(jsonl_file_path, 'r') as jsonl_file, \\\n",
    "     open(rt_corpus_path, 'a') as corpus:\n",
    "    seen_text = set()\n",
    "    for line in jsonl_file:\n",
    "        json_obj = json.loads(line.strip())\n",
    "        processed_json = process_json(json_obj)\n",
    "        if processed_json['lengthWords'] >= 50 and processed_json[\"fullText\"] not in seen_text:\n",
    "            seen_text.add(processed_json['fullText'])\n",
    "            corpus.write(json.dumps(processed_json) + '\\n')\n",
    "\n",
    "\n",
    "        \n",
    "    \n",
    "        \n",
    " "
   ]
  },
  {
   "cell_type": "code",
   "execution_count": 41,
   "metadata": {},
   "outputs": [
    {
     "name": "stdout",
     "output_type": "stream",
     "text": [
      "168\n"
     ]
    }
   ],
   "source": [
    "# gets the number of unique authors\n",
    "# Read the JSONL file and store JSON objects in a list\n",
    "with open(rt_corpus_path, 'r') as file:\n",
    "    json_list = [json.loads(line) for line in file]\n",
    "    # print(json_list)\n",
    "\n",
    "    # Create a set to store unique \"fullText\" values\n",
    "    unique_ids = set()\n",
    "\n",
    "    # Create a new list to store filtered JSON objects\n",
    "    filtered_json_list = []\n",
    "\n",
    "    # # Iterate through the JSON objects\n",
    "    for json_obj in json_list:\n",
    "        # Extract the \"fullText\" value\n",
    "        ids = json_obj.get(\"authorIDs\")\n",
    "        unique_ids.add(ids[0])\n",
    "\n",
    "    print(len(unique_ids))\n",
    "\n"
   ]
  },
  {
   "cell_type": "code",
   "execution_count": null,
   "metadata": {},
   "outputs": [],
   "source": []
  }
 ],
 "metadata": {
  "kernelspec": {
   "display_name": "Python 3",
   "language": "python",
   "name": "python3"
  },
  "language_info": {
   "codemirror_mode": {
    "name": "ipython",
    "version": 3
   },
   "file_extension": ".py",
   "mimetype": "text/x-python",
   "name": "python",
   "nbconvert_exporter": "python",
   "pygments_lexer": "ipython3",
   "version": "3.8.5"
  },
  "orig_nbformat": 4
 },
 "nbformat": 4,
 "nbformat_minor": 2
}
